{
 "cells": [
  {
   "cell_type": "code",
   "execution_count": 1,
   "id": "0bdec4bd",
   "metadata": {},
   "outputs": [
    {
     "data": {
      "text/html": [
       "<style>.container { width:98% !important; }</style>"
      ],
      "text/plain": [
       "<IPython.core.display.HTML object>"
      ]
     },
     "metadata": {},
     "output_type": "display_data"
    }
   ],
   "source": [
    "from IPython.display import display, HTML\n",
    "display(HTML(\"<style>.container { width:98% !important; }</style>\"))"
   ]
  },
  {
   "cell_type": "markdown",
   "id": "fcb30a14",
   "metadata": {},
   "source": [
    "## Data"
   ]
  },
  {
   "cell_type": "code",
   "execution_count": 25,
   "id": "9762ce43",
   "metadata": {},
   "outputs": [
    {
     "data": {
      "text/plain": [
       "['rel_ids_1',\n",
       " 'sup_pairs',\n",
       " 'rel_ids_2',\n",
       " 'ref_pairs',\n",
       " 'ent_ids_2',\n",
       " 'triples_2',\n",
       " 'ent_ids_1',\n",
       " 'triples_1']"
      ]
     },
     "execution_count": 25,
     "metadata": {},
     "output_type": "execute_result"
    }
   ],
   "source": [
    "import os\n",
    "import numpy as np\n",
    "import pandas as pd\n",
    "import scipy.sparse as sp\n",
    "import torch\n",
    "\n",
    "from torch import nn\n",
    "from torch.nn import functional as F\n",
    "from pathlib import Path\n",
    "from tqdm import tqdm\n",
    "from CSLS import eval_alignment_by_sim_mat\n",
    "from matplotlib import pyplot as plt\n",
    "\n",
    "DATA_PATH = Path('TEA-GNN/data/ICEWS05-15')\n",
    "os.listdir(DATA_PATH)"
   ]
  },
  {
   "cell_type": "code",
   "execution_count": 3,
   "id": "8d23a47b",
   "metadata": {},
   "outputs": [],
   "source": [
    "def create_triples(ent_file, rel_file, triple_file, times=False):\n",
    "    df_ent_1 = pd.read_csv(ent_file, delimiter='\\t', header=None, names=['id', 'entity'], index_col=0)\n",
    "    df_rel_1 = pd.read_csv(rel_file, delimiter='\\t', header=None, names=['relation', 'id'], index_col=1)\n",
    "    \n",
    "    if times:\n",
    "        df_triples_1 = pd.read_csv(triple_file, delimiter='\\t', header=None, names=['head', 'relation', 'tail', 'time_start', 'time_end'])\n",
    "    else:\n",
    "        df_triples_1 = pd.read_csv(triple_file, delimiter='\\t', header=None, names=['head', 'relation', 'tail', 'time'])\n",
    "    \n",
    "    df_trip_ent = df_triples_1.set_index('head').join(df_ent_1, rsuffix='_head').reset_index().rename(columns={'index': 'head', 'entity': 'entity_head'})\n",
    "    df_trip_ent = df_trip_ent.set_index('tail').join(df_ent_1).reset_index().rename(columns={'index': 'tail', 'entity': 'entity_tail'})\n",
    "    df_trip_ent = df_trip_ent.set_index('relation').join(df_rel_1).reset_index().rename(columns={'index': 'relation', 'relation': 'rel'})\n",
    "    \n",
    "    \n",
    "    entities = set(df_trip_ent['head'].unique().tolist() + df_trip_ent['tail'].unique().tolist())\n",
    "    relations = set([0, *(df_trip_ent['relation'].unique() + 1)])\n",
    "    times = set([0, *(df_trip_ent['time'].unique() + 1)])\n",
    "    triples = df_trip_ent[['head', 'relation', 'tail', 'time']].to_numpy().tolist()\n",
    "\n",
    "    return entities, relations, times, triples\n",
    "\n",
    "def load_alignments(align_file):\n",
    "    return pd.read_csv(align_file, delimiter='\\t', header=None, names=['entity_1', 'entity_2']).to_numpy().tolist()"
   ]
  },
  {
   "cell_type": "code",
   "execution_count": 4,
   "id": "964e9fae",
   "metadata": {},
   "outputs": [],
   "source": [
    "### message passing matrix\n",
    "\n",
    "def normalize_adj(adj):\n",
    "    adj = sp.coo_matrix(adj)\n",
    "    ## creating the degree matrix = D\n",
    "    rowsum = np.array(adj.sum(1))  \n",
    "    d_inv_sqrt = np.power(rowsum, -0.5).flatten() \n",
    "    d_inv_sqrt[np.isinf(d_inv_sqrt)] = 0\n",
    "    d_mat_inv_sqrt = sp.diags(d_inv_sqrt)\n",
    "    ##\n",
    "    return d_mat_inv_sqrt.dot(adj).transpose().dot(d_mat_inv_sqrt).T # creating the adj matrix for message passing\n"
   ]
  },
  {
   "cell_type": "code",
   "execution_count": 5,
   "id": "e85c932f",
   "metadata": {},
   "outputs": [],
   "source": [
    "entities_1, relations_1, times_1, triples_1 = create_triples(DATA_PATH/'ent_ids_1', DATA_PATH/'rel_ids_1', DATA_PATH/'triples_1')\n",
    "entities_2, relations_2, times_2, triples_2 = create_triples(DATA_PATH/'ent_ids_2', DATA_PATH/'rel_ids_2', DATA_PATH/'triples_2')\n",
    "train_alignments = load_alignments(DATA_PATH/'ref_pairs')\n",
    "dev_alignments = load_alignments(DATA_PATH/'sup_pairs')\n",
    "all_ent, all_rel, all_times, all_triples = entities_1.union(entities_2), relations_1.union(relations_2), times_1.union(times_2), triples_1 + triples_2"
   ]
  },
  {
   "cell_type": "code",
   "execution_count": 6,
   "id": "c17c2256",
   "metadata": {},
   "outputs": [
    {
     "data": {
      "text/plain": [
       "1000"
      ]
     },
     "execution_count": 6,
     "metadata": {},
     "output_type": "execute_result"
    }
   ],
   "source": [
    "len(dev_alignments)"
   ]
  },
  {
   "cell_type": "code",
   "execution_count": 7,
   "id": "82b5ccaa",
   "metadata": {},
   "outputs": [],
   "source": [
    "def get_matrix(all_ent, all_rel, all_times, all_triples):\n",
    "    ent_size = max(all_ent) + 1\n",
    "    rel_size = max(all_rel) + 1\n",
    "    time_size = max(all_times) + 1\n",
    "\n",
    "    adj_matrix = sp.lil_matrix((ent_size, ent_size))\n",
    "    adj_features = sp.lil_matrix((ent_size, ent_size))\n",
    "    radj = []\n",
    "\n",
    "    rel_in = np.zeros((ent_size, rel_size))\n",
    "    rel_out = np.zeros((ent_size, rel_size))\n",
    "\n",
    "    for i in range(ent_size):\n",
    "        adj_features[i, i] = 1\n",
    "\n",
    "    time_link = np.zeros((ent_size, time_size))\n",
    "\n",
    "    for h, r, t, tau in all_triples:\n",
    "        adj_matrix[h, t] = 1; adj_matrix[t, h] = 1\n",
    "        adj_features[h, t] = 1; adj_features[t, h] = 1\n",
    "        radj.append([h, t, r, tau]); radj.append([t, h, r + rel_size, tau])\n",
    "        time_link[h, tau] += 1; time_link[t, tau] += 1\n",
    "        rel_out[h, r] += 1; rel_in[t, r] += 1\n",
    "\n",
    "    count = -1\n",
    "    s = set()\n",
    "    d = {}\n",
    "    r_index, t_index, r_val = [], [], []\n",
    "\n",
    "    for h, t, r, tau in sorted(radj, key = lambda x: x[0] * 10e10 + x[1]*10e5):\n",
    "        if ' '.join([str(h), str(t)]) in s:\n",
    "            r_index.append([count, r])\n",
    "            t_index.append([count, tau])\n",
    "            r_val.append(1)\n",
    "            d[count] += 1\n",
    "        else:\n",
    "            count += 1\n",
    "            d[count]  = 1\n",
    "            s.add(' '.join([str(h), str(t)]))\n",
    "            r_index.append([count, r])\n",
    "            t_index.append([count, tau])\n",
    "            r_val.append(1)\n",
    "    for i in range(len(r_index)):\n",
    "        r_val[i] /= d[r_index[i][0]]\n",
    "\n",
    "    time_features = time_link\n",
    "\n",
    "    time_features = normalize_adj(sp.lil_matrix(time_features)) #### using time as an averager for the node features\n",
    "\n",
    "    rel_features = np.concatenate([rel_in, rel_out], axis=1)\n",
    "    rel_features = normalize_adj(rel_features)  ### use relations as an averager for the node features\n",
    "    adj_features = normalize_adj(adj_features)\n",
    "    \n",
    "    return adj_matrix, np.array(r_index), np.array(r_val), np.array(t_index), adj_features, rel_features, time_features"
   ]
  },
  {
   "cell_type": "code",
   "execution_count": 8,
   "id": "4d8894cf",
   "metadata": {},
   "outputs": [
    {
     "data": {
      "text/plain": [
       "(19054, 988, 4018, 198262, 19054)"
      ]
     },
     "execution_count": 8,
     "metadata": {},
     "output_type": "execute_result"
    }
   ],
   "source": [
    "## r_index => [unique head and tail, relation index numbers]\n",
    "## t_index => [unique head and tail, time index numbers]\n",
    "## r_val ==> equal weight for the unique head and tail over all relations/timestamps\n",
    "\n",
    "adj_matrix, r_index, r_val, t_index, adj_features, rel_features, time_features = get_matrix(all_ent, all_rel, all_times, all_triples)\n",
    "adj_matrix = np.stack(adj_matrix.nonzero(), axis=1) ## all indices where there is \"some kind of adjancent relation\"\n",
    "rel_matrix, rel_val = np.stack(rel_features.nonzero(), axis=1), rel_features.data ## Nodes x Relation array\n",
    "ent_matrix, ent_val = np.stack(adj_features.nonzero(), axis=1), adj_features.data\n",
    "time_matrix, time_val = np.stack(time_features.nonzero(), axis=1), time_features.data\n",
    "\n",
    "node_size = adj_features.shape[0]\n",
    "rel_size = rel_features.shape[1]\n",
    "time_size = time_features.shape[1]\n",
    "triple_size = len(adj_matrix)\n",
    "batch_size = node_size\n",
    "node_size, rel_size, time_size, triple_size, batch_size"
   ]
  },
  {
   "cell_type": "code",
   "execution_count": 9,
   "id": "4ff74a8f",
   "metadata": {},
   "outputs": [],
   "source": [
    "outputs = [np.expand_dims(i, axis=0) for i in [adj_matrix, r_index, r_val, t_index, adj_features, rel_features, time_features]]\n",
    "adj_matrix, r_index, r_val, t_index, adj_features, rel_features, time_features = outputs"
   ]
  },
  {
   "cell_type": "code",
   "execution_count": 10,
   "id": "7e9bd220",
   "metadata": {},
   "outputs": [
    {
     "data": {
      "text/plain": [
       "((1, 198262, 2), (1, 1230210, 2), (1, 1230210), (1,), (1,), (1,))"
      ]
     },
     "execution_count": 10,
     "metadata": {},
     "output_type": "execute_result"
    }
   ],
   "source": [
    "adj_matrix.shape, r_index.shape, r_val.shape, adj_features.shape, rel_features.shape, time_features.shape"
   ]
  },
  {
   "cell_type": "code",
   "execution_count": 11,
   "id": "41276db4",
   "metadata": {},
   "outputs": [],
   "source": [
    "ent_dim, rel_dim, time_dim = 128, 128, 128"
   ]
  },
  {
   "cell_type": "code",
   "execution_count": 12,
   "id": "b3b38d20",
   "metadata": {},
   "outputs": [],
   "source": [
    "device = 'cuda:1'\n",
    "class ContextualEmbedding(nn.Module):\n",
    "    def __init__(self, inp_dim, out_dim=128, other_dim=None):\n",
    "        super(ContextualEmbedding, self).__init__()\n",
    "        self.inp_dim = inp_dim\n",
    "        self.out_dim = out_dim\n",
    "        self.other_dim = other_dim if other_dim is not None else inp_dim\n",
    "        self.embedding = nn.Embedding(self.other_dim, self.out_dim)\n",
    "        \n",
    "    def forward(self, indices):\n",
    "        x = self.embedding(torch.arange(self.other_dim).long().to(device))\n",
    "        size = (self.inp_dim, self.other_dim)\n",
    "        indices = torch.sparse_coo_tensor(indices, values=torch.ones_like(indices[0, :], dtype=torch.float32), size=size)\n",
    "        indices = torch.sparse.softmax(indices, dim=len(indices.size())-1)\n",
    "        return torch.sparse.mm(indices, x)"
   ]
  },
  {
   "cell_type": "code",
   "execution_count": 13,
   "id": "3031f9d3",
   "metadata": {},
   "outputs": [],
   "source": [
    "ent_sparse = torch.tensor(np.array([ent_matrix[:, 1], ent_matrix[:, 0]])).long().to(device)\n",
    "rel_sparse = torch.tensor(np.array([rel_matrix[:, 1], rel_matrix[:, 0]])).long().to(device)\n",
    "time_sparse = torch.tensor(np.array([time_matrix[:, 1], time_matrix[:, 0]])).long().to(device)"
   ]
  },
  {
   "cell_type": "code",
   "execution_count": 14,
   "id": "1608115b",
   "metadata": {},
   "outputs": [],
   "source": [
    "class HeteroTimeGAT(nn.Module):\n",
    "    def __init__(self, adj, emb_size):\n",
    "        super(HeteroTimeGAT, self).__init__()\n",
    "        self.attend_relation = nn.Linear(emb_size * 3, 1)\n",
    "        self.attend_time = nn.Linear(emb_size * 3, 1)\n",
    "        self.adj = adj\n",
    "        \n",
    "    def forward(self, xr, xt, selfs, neighs):\n",
    "        indices = self.adj.coalesce().indices()\n",
    "        rel_x = self.attend_relation(xr).view(-1)\n",
    "        rel_x = torch.sparse_coo_tensor(indices, rel_x, self.adj.shape)\n",
    "        rel_x = torch.sparse.softmax(rel_x, 1)\n",
    "        att_rel_x = neighs * rel_x.coalesce().values().unsqueeze(-1)\n",
    "        \n",
    "        time_x = self.attend_time(xt).view(-1)\n",
    "        time_x = torch.sparse_coo_tensor(indices, time_x, self.adj.shape)\n",
    "        time_x = torch.sparse.softmax(time_x, 1)\n",
    "        att_time_x = neighs * time_x.coalesce().values().unsqueeze(-1)\n",
    "        \n",
    "        return att_rel_x, att_time_x"
   ]
  },
  {
   "cell_type": "code",
   "execution_count": 15,
   "id": "df8ae630",
   "metadata": {
    "scrolled": true
   },
   "outputs": [
    {
     "name": "stderr",
     "output_type": "stream",
     "text": [
      " 10%|█         | 10/100 [00:06<01:15,  1.19it/s]"
     ]
    },
    {
     "name": "stdout",
     "output_type": "stream",
     "text": [
      "accurate results: hits@[1, 5, 10] = [53.4 65.8 71.6], mr = 50.431, mrr = 0.593, time = 1.380 s \n"
     ]
    },
    {
     "name": "stderr",
     "output_type": "stream",
     "text": [
      " 20%|██        | 20/100 [00:10<01:03,  1.25it/s]"
     ]
    },
    {
     "name": "stdout",
     "output_type": "stream",
     "text": [
      "accurate results: hits@[1, 5, 10] = [75.  82.5 85. ], mr = 26.447, mrr = 0.785, time = 1.263 s \n"
     ]
    },
    {
     "name": "stderr",
     "output_type": "stream",
     "text": [
      " 30%|███       | 30/100 [00:15<00:57,  1.21it/s]"
     ]
    },
    {
     "name": "stdout",
     "output_type": "stream",
     "text": [
      "accurate results: hits@[1, 5, 10] = [85.  90.5 92.1], mr = 12.570, mrr = 0.875, time = 1.371 s \n"
     ]
    },
    {
     "name": "stderr",
     "output_type": "stream",
     "text": [
      " 40%|████      | 40/100 [00:20<00:48,  1.24it/s]"
     ]
    },
    {
     "name": "stdout",
     "output_type": "stream",
     "text": [
      "accurate results: hits@[1, 5, 10] = [87.8 93.  94.3], mr = 6.505, mrr = 0.902, time = 1.342 s \n"
     ]
    },
    {
     "name": "stderr",
     "output_type": "stream",
     "text": [
      " 50%|█████     | 50/100 [00:24<00:35,  1.40it/s]"
     ]
    },
    {
     "name": "stdout",
     "output_type": "stream",
     "text": [
      "accurate results: hits@[1, 5, 10] = [89.4 94.  95.1], mr = 5.585, mrr = 0.916, time = 1.087 s \n"
     ]
    },
    {
     "name": "stderr",
     "output_type": "stream",
     "text": [
      " 60%|██████    | 60/100 [00:28<00:29,  1.35it/s]"
     ]
    },
    {
     "name": "stdout",
     "output_type": "stream",
     "text": [
      "accurate results: hits@[1, 5, 10] = [89.3 93.6 95.7], mr = 5.605, mrr = 0.915, time = 1.141 s \n"
     ]
    },
    {
     "name": "stderr",
     "output_type": "stream",
     "text": [
      " 70%|███████   | 70/100 [00:33<00:23,  1.29it/s]"
     ]
    },
    {
     "name": "stdout",
     "output_type": "stream",
     "text": [
      "accurate results: hits@[1, 5, 10] = [90.2 94.1 95.5], mr = 4.648, mrr = 0.921, time = 1.244 s \n"
     ]
    },
    {
     "name": "stderr",
     "output_type": "stream",
     "text": [
      " 80%|████████  | 80/100 [00:37<00:14,  1.35it/s]"
     ]
    },
    {
     "name": "stdout",
     "output_type": "stream",
     "text": [
      "accurate results: hits@[1, 5, 10] = [89.6 93.8 95.2], mr = 4.255, mrr = 0.916, time = 1.140 s \n"
     ]
    },
    {
     "name": "stderr",
     "output_type": "stream",
     "text": [
      " 90%|█████████ | 90/100 [00:42<00:07,  1.27it/s]"
     ]
    },
    {
     "name": "stdout",
     "output_type": "stream",
     "text": [
      "accurate results: hits@[1, 5, 10] = [89.3 94.  95.2], mr = 4.715, mrr = 0.915, time = 1.317 s \n"
     ]
    },
    {
     "name": "stderr",
     "output_type": "stream",
     "text": [
      "100%|██████████| 100/100 [00:46<00:00,  2.15it/s]"
     ]
    },
    {
     "name": "stdout",
     "output_type": "stream",
     "text": [
      "accurate results: hits@[1, 5, 10] = [89.3 93.8 95.3], mr = 5.869, mrr = 0.913, time = 1.141 s \n"
     ]
    },
    {
     "name": "stderr",
     "output_type": "stream",
     "text": [
      "\n"
     ]
    }
   ],
   "source": [
    "def get_train_set(batch_size = batch_size):\n",
    "    negative_ratio =  batch_size // len(train_alignments) + 1\n",
    "    train_set = np.reshape(np.repeat(np.expand_dims(train_alignments,axis=0),axis=0,repeats=negative_ratio),newshape=(-1,2))\n",
    "    np.random.shuffle(train_set); train_set = train_set[:batch_size]\n",
    "    train_set = np.concatenate([train_set,np.random.randint(0,node_size,train_set.shape)],axis = -1)\n",
    "    return train_set\n",
    "    \n",
    "class FullModel(nn.Module):\n",
    "    def __init__(self, adj, node_size, rel_size, time_size, triple_size, ent_sparse, rel_sparse, time_sparse, emb_size=128, depth=1, device='cuda'):\n",
    "        super(FullModel, self).__init__()\n",
    "\n",
    "        self.device = device\n",
    "        self.node_size = node_size\n",
    "        self.rel_size = rel_size\n",
    "        self.time_size = time_size\n",
    "        self.triple_size = triple_size\n",
    "        self.emb_size = emb_size\n",
    "        self.depth = depth\n",
    "        self.adj = adj\n",
    "        self.indices = self.adj.coalesce().indices()\n",
    "        self.indices_size = self.indices.size(1)\n",
    "        self.activation = nn.ReLU()\n",
    "        \n",
    "        self.ent_embedding = ContextualEmbedding(self.node_size, self.emb_size).to(self.device)\n",
    "        self.rel_embedding = ContextualEmbedding(self.rel_size, self.emb_size, self.node_size).to(self.device)\n",
    "        self.time_embedding = ContextualEmbedding(self.time_size, self.emb_size, self.node_size).to(self.device)\n",
    "        \n",
    "        self.attend_relation = nn.Linear(emb_size * 3, 1)\n",
    "        self.attend_time = nn.Linear(emb_size * 3, 1)\n",
    "        \n",
    "        self.dropout = nn.Dropout(0.3)\n",
    "#         self.graph_net = TNR_GraphAttention(adj, node_size, rel_size, time_size, triple_size, emb_size, depth, device)\n",
    "        self.ent_emb = self.ent_embedding(ent_sparse).to(self.device)\n",
    "        self.rel_emb = self.rel_embedding(rel_sparse).to(self.device)\n",
    "        self.time_emb = self.time_embedding(time_sparse).to(self.device)\n",
    "    \n",
    "    def forward(self, inputs):\n",
    "        r_index_sq, r_val_sq, t_index_sq = inputs\n",
    "        self.neighs, self.selfs = self.ent_emb[self.indices.T[:, 1]], self.ent_emb[self.indices.T[:, 0]]\n",
    "        \n",
    "        outputs = []\n",
    "        features = self.activation(self.ent_emb)\n",
    "        node_size = self.node_size\n",
    "        \n",
    "        outputs.append(features)\n",
    "        \n",
    "        for i in range(self.depth):\n",
    "            \n",
    "            rels_sum = torch.sparse_coo_tensor(r_index_sq.T, r_val_sq, (self.triple_size, self.rel_size)).to(self.device)\n",
    "            rels_sum = torch.sparse.mm(rels_sum.float(), self.rel_emb)\n",
    "            rels_sum_n = torch.nn.functional.normalize(rels_sum, 2)\n",
    "            r_neighs = self.neighs - 2 * torch.sum(self.neighs * rels_sum_n, 1, keepdims=True) * rels_sum_n\n",
    "            r_concat = torch.cat([self.selfs, self.neighs, rels_sum_n], axis=1)\n",
    "            \n",
    "            times_sum = torch.sparse_coo_tensor(t_index_sq.T, r_val_sq, (triple_size, time_size)).to(self.device)\n",
    "            times_sum = torch.sparse.mm(times_sum.float(), self.time_emb)\n",
    "            times_sum_n = torch.nn.functional.normalize(times_sum, 2)\n",
    "            t_neighs = self.neighs - 2 * torch.sum(self.neighs * times_sum_n, 1, keepdims=True) * times_sum_n\n",
    "            t_concat = torch.cat([self.selfs, self.neighs, times_sum_n], axis=1)\n",
    "            \n",
    "            indices = self.adj.coalesce().indices()\n",
    "            rel_x = self.attend_relation(r_concat).view(-1)\n",
    "            rel_x = torch.sparse_coo_tensor(indices, rel_x, self.adj.shape)\n",
    "            rel_x = torch.sparse.softmax(rel_x, 1)\n",
    "            att_rel_x = self.neighs * rel_x.coalesce().values().unsqueeze(-1)\n",
    "\n",
    "            time_x = self.attend_time(t_concat).view(-1)\n",
    "            time_x = torch.sparse_coo_tensor(indices, time_x, self.adj.shape)\n",
    "            time_x = torch.sparse.softmax(time_x, 1)\n",
    "            att_time_x = self.neighs * time_x.coalesce().values().unsqueeze(-1)\n",
    "\n",
    "            indices = torch.stack([self.indices[0, :], torch.arange(self.indices[0, :].size(0)).to(self.device)])\n",
    "            \n",
    "            th = torch.sparse_coo_tensor(indices, torch.ones_like(indices[0]), (node_size, self.indices[0, :].size(0)))\n",
    "            new_r = torch.sparse.mm(th.float(), att_rel_x)\n",
    "            new_t = torch.sparse.mm(th.float(), att_time_x)\n",
    "            \n",
    "            new_features = new_r + new_t\n",
    "            \n",
    "            features = self.activation(new_features)\n",
    "            outputs.append(features)\n",
    "            \n",
    "        ent_encoding = torch.cat(outputs, 1)\n",
    "        \n",
    "        times_sum = torch.sparse_coo_tensor(t_index_sq.T, r_val_sq, (self.triple_size, self.time_size)).to(device)\n",
    "        times_sum_n = torch.sparse.mm(times_sum.float(), self.time_emb)\n",
    "        new_indices = torch.vstack([self.adj.coalesce().indices()[0, :], torch.arange(self.adj.coalesce().indices()[0, :].size(0)).to(device)])\n",
    "        time_indices = torch.sparse_coo_tensor(new_indices, torch.ones_like(new_indices[0]), (self.node_size, new_indices[0, :].size(0)))\n",
    "        time_encoding = self.activation(torch.sparse.mm(time_indices.float(), times_sum_n))\n",
    "        \n",
    "        \n",
    "        return self.dropout(torch.cat([ent_encoding, time_encoding], 1))\n",
    "\n",
    "adj_sparse_pre = torch.tensor(adj_matrix).squeeze(0).long()\n",
    "adj_sparse = torch.sparse_coo_tensor(adj_sparse_pre.T, torch.ones_like(adj_sparse_pre[:, 0]), (node_size, node_size)).to(device)\n",
    "ent_sparse = torch.tensor(np.array([ent_matrix[:, 1], ent_matrix[:, 0]])).long().to(device)\n",
    "rel_sparse = torch.tensor(np.array([rel_matrix[:, 1], rel_matrix[:, 0]])).long().to(device)\n",
    "time_sparse = torch.tensor(np.array([time_matrix[:, 1], time_matrix[:, 0]])).long().to(device)\n",
    "r_index_sq, r_val_sq, t_index_sq = r_index.squeeze(0), r_val.squeeze(0), t_index.squeeze(0)\n",
    "alignment_pairs = get_train_set()\n",
    "\n",
    "model = FullModel(adj_sparse, node_size, rel_size, time_size, triple_size, ent_sparse, rel_sparse, time_sparse, depth=2, device=device).to(device)\n",
    "optimizer = torch.optim.Adam(model.parameters(), lr=1, weight_decay=0.01)\n",
    "\n",
    "\n",
    "def l1(ll, rr):\n",
    "        return torch.sum(torch.abs(ll - rr), axis=-1)\n",
    "gamma = 1.0\n",
    "losses = []\n",
    "t_prec = []\n",
    "accs = []\n",
    "t_mrrs = []\n",
    "for i in tqdm(range(100)):\n",
    "    model.train()\n",
    "    optimizer.zero_grad()\n",
    "    features = model((r_index_sq, r_val_sq, t_index_sq))\n",
    "    comp = features[alignment_pairs]\n",
    "    l, r, fl, fr = comp[:, 0, :], comp[:, 1, :], comp[:, 2, :], comp[:, 3, :]\n",
    "    loss = torch.sum(nn.ReLU()(gamma + l1(l, r) - l1(l, fr)) + nn.ReLU()(gamma + l1(l, r) - l1(fl, r))) / batch_size\n",
    "    losses.append(loss.item())\n",
    "    loss.backward(retain_graph=True)\n",
    "    optimizer.step()\n",
    "    if ((i + 1) % 10) == 0:\n",
    "        model.eval()\n",
    "        with torch.no_grad():\n",
    "            feat = model((r_index_sq, r_val_sq, t_index_sq))[dev_alignments]\n",
    "            Lvec = np.array(feat[:, 0, :].cpu()) #np.array([vec[e1] for e1, e2 in feat])\n",
    "            Rvec = np.array(feat[:, 1, :].cpu()) #np.array([vec[e2] for e1, e2 in dev_alignments])\n",
    "            Lvec = Lvec / np.linalg.norm(Lvec,axis=-1,keepdims=True)\n",
    "            Rvec = Rvec / np.linalg.norm(Rvec,axis=-1,keepdims=True)\n",
    "            t_prec_set, acc, t_mrr = eval_alignment_by_sim_mat(Lvec, Rvec, [1, 5, 10], 1, csls=10, accurate = True)\n",
    "            accs.append(acc)\n",
    "            t_mrrs.append(t_mrr)\n",
    "            t_prec.append(t_prec_set)"
   ]
  },
  {
   "cell_type": "code",
   "execution_count": 42,
   "id": "4de8cb4f",
   "metadata": {},
   "outputs": [
    {
     "data": {
      "text/plain": [
       "<matplotlib.legend.Legend at 0x7fea15ea9fa0>"
      ]
     },
     "execution_count": 42,
     "metadata": {},
     "output_type": "execute_result"
    },
    {
     "data": {
      "image/png": "[encoded data removed]",
      "text/plain": [
       "<Figure size 432x288 with 1 Axes>"
      ]
     },
     "metadata": {
      "needs_background": "light"
     },
     "output_type": "display_data"
    }
   ],
   "source": [
    "fig = plt.figure()\n",
    "plt.plot(np.array(accs)[:, 0], label='hit@1')\n",
    "plt.plot(np.array(accs)[:, 1], label='hit@5')\n",
    "plt.plot(np.array(accs)[:, 2], label='hit@10')\n",
    "fig.suptitle('HIT@K')\n",
    "plt.xlabel('Epochs')\n",
    "plt.ylabel('Hit %')\n",
    "plt.legend()"
   ]
  },
  {
   "cell_type": "code",
   "execution_count": 47,
   "id": "9c968086",
   "metadata": {},
   "outputs": [
    {
     "data": {
      "text/plain": [
       "Text(0, 0.5, 'Hit %')"
      ]
     },
     "execution_count": 47,
     "metadata": {},
     "output_type": "execute_result"
    },
    {
     "data": {
      "image/png": "[encoded data removed]",
      "text/plain": [
       "<Figure size 432x288 with 1 Axes>"
      ]
     },
     "metadata": {
      "needs_background": "light"
     },
     "output_type": "display_data"
    }
   ],
   "source": [
    "fig = plt.figure()\n",
    "plt.plot(t_mrrs, label='t_mmr')\n",
    "fig.suptitle('HIT@K')\n",
    "plt.xlabel('Epochs')\n",
    "plt.ylabel('Hit %')"
   ]
  },
  {
   "cell_type": "code",
   "execution_count": 48,
   "id": "c6c99fe3",
   "metadata": {},
   "outputs": [
    {
     "data": {
      "text/plain": [
       "Text(0, 0.5, 'Loss')"
      ]
     },
     "execution_count": 48,
     "metadata": {},
     "output_type": "execute_result"
    },
    {
     "data": {
      "image/png": "[encoded data removed]",
      "text/plain": [
       "<Figure size 432x288 with 1 Axes>"
      ]
     },
     "metadata": {
      "needs_background": "light"
     },
     "output_type": "display_data"
    }
   ],
   "source": [
    "# losses.append(loss.item())\n",
    "fig = plt.figure()\n",
    "plt.plot(losses)\n",
    "fig.suptitle('Loss')\n",
    "plt.xlabel('Epochs')\n",
    "plt.ylabel('Loss')\n"
   ]
  },
  {
   "cell_type": "code",
   "execution_count": null,
   "id": "3c426d92",
   "metadata": {},
   "outputs": [],
   "source": []
  }
 ],
 "metadata": {
  "kernelspec": {
   "display_name": "Python 3 (ipykernel)",
   "language": "python",
   "name": "python3"
  },
  "language_info": {
   "codemirror_mode": {
    "name": "ipython",
    "version": 3
   },
   "file_extension": ".py",
   "mimetype": "text/x-python",
   "name": "python",
   "nbconvert_exporter": "python",
   "pygments_lexer": "ipython3",
   "version": "3.8.10"
  }
 },
 "nbformat": 4,
 "nbformat_minor": 5
}
